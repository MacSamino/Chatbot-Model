{
 "cells": [
  {
   "cell_type": "code",
   "execution_count": 1,
   "id": "d578aa4e",
   "metadata": {},
   "outputs": [
    {
     "name": "stdout",
     "output_type": "stream",
     "text": [
      "C:\\Users\\allis\\Desktop\\Data Science\\Final\\Chatbot\\data\n"
     ]
    }
   ],
   "source": [
    "cd C:\\Users\\allis\\Desktop\\Data Science\\Final\\Chatbot\\data"
   ]
  },
  {
   "cell_type": "code",
   "execution_count": 2,
   "id": "2eb0d593",
   "metadata": {},
   "outputs": [],
   "source": [
    "import random\n",
    "from bs4 import BeautifulSoup as bs\n",
    "import requests\n",
    "import pandas as pd\n",
    "import numpy as np\n",
    "import pickle\n",
    "import nltk\n",
    "from nltk.stem import WordNetLemmatizer\n",
    "from tensorflow.keras.models import load_model\n",
    "import json\n",
    "from autocorrect import Speller\n",
    "from termcolor import colored, cprint\n",
    "from datetime import datetime\n",
    "import os \n",
    "spell = Speller(lang ='en')\n",
    "lem = WordNetLemmatizer()\n",
    "\n",
    "intents = json.loads(open('intents.json').read())\n",
    "words  = pickle.load(open('words.pkl', 'rb'))\n",
    "classes = pickle.load(open('classes.pkl','rb'))\n",
    "model = load_model('brain.h5')\n",
    "gamesort = pd.read_csv('gamecategory.csv')\n",
    "gamecategory = list(gamesort.Genres.unique())\n",
    "game = pd.read_csv('game.csv')"
   ]
  },
  {
   "cell_type": "code",
   "execution_count": 3,
   "id": "50642b98",
   "metadata": {},
   "outputs": [],
   "source": [
    "#Creating the fact feature with web scraping\n",
    "def funfact():\n",
    "    r = requests.get('http://randomfactgenerator.net/')\n",
    "    soup = bs(r.content)\n",
    "    filtered = soup.find_all('div', attrs= {'id':'z'})\n",
    "    filtered = str(filtered[0])[12:]\n",
    "    filtered = filtered.split('<br/>')\n",
    "    fact = filtered[0]\n",
    "    return fact.lower()"
   ]
  },
  {
   "cell_type": "code",
   "execution_count": 4,
   "id": "1598de5a",
   "metadata": {},
   "outputs": [],
   "source": [
    "def inputclean(_input):\n",
    "    phrase = spell(_input)\n",
    "    ind_words = nltk.word_tokenize(phrase)\n",
    "    words = [lem.lemmatize(word) for word in ind_words]\n",
    "    return words\n",
    "\n",
    "def bag_of_words(_input):\n",
    "    _words = inputclean(_input)\n",
    "    bag= [0]* len(words)\n",
    "    #print(_words)\n",
    "    for x in _words:\n",
    "        for i, word in enumerate(words):\n",
    "            if word == x:\n",
    "                bag[i]= 1\n",
    "    #print(bag)\n",
    "    return np.array(bag)\n",
    "\n",
    "def classpicker(_input): #this predicts what the user is saying/asking using our model\n",
    "    bow = bag_of_words(_input)\n",
    "    #print(bow)\n",
    "    result = model.predict(np.array([bow]))[0]\n",
    "    threshold = 0.25 # cap for result\n",
    "    final = [[i,r] for i, r in enumerate(result) if r > threshold]\n",
    "    \n",
    "    final.sort(key=lambda x : x[1], reverse =True)\n",
    "    return_list = []\n",
    "    for r in final:\n",
    "        return_list.append({\"intent\":classes[r[0]], \"prob\":str([r[1]])})\n",
    "    return return_list\n",
    "\n",
    "def response(intents_list,json_file): # outputs the correct response based on the prediction \n",
    "    neutral = ['greetings','goodbye','feel?','who?']\n",
    "    tag = intents_list[0]['intent']\n",
    "    _list = json_file['intents']\n",
    "    for i in _list:\n",
    "        if i['tag'] == tag:\n",
    "            #print(tag)\n",
    "            if tag in neutral:# outputs from json response bracket\n",
    "                reply = random.choice(i['response'])\n",
    "                break\n",
    "            if tag == 'game':# outputs all games categories\n",
    "                cprint(random.choice(i['response']),'green')\n",
    "                for game in gamecategory:\n",
    "                    cprint(game,'green')\n",
    "                reply = 'Does anything interest you?'\n",
    "                break\n",
    "            if tag in gamecategory: # if a category is recognized it prints a random game based on rating \n",
    "                a = (\"ChatBot: \" +  random.choice(i['response']))\n",
    "                b = (random.choice(gamefindr(tag)))\n",
    "                cprint(a+b , \"green\" )\n",
    "                reply = ('Anything else I can help you with?')\n",
    "                break\n",
    "            if tag == 'time':# Out puts current time\n",
    "                atime = (random.choice(i['response']))\n",
    "                now = datetime.now()\n",
    "                reply = atime + str(now.strftime(\"%H:%M\"))\n",
    "                break\n",
    "            if tag == 'fact':# Out puts current time\n",
    "                afact = (random.choice(i['response']))\n",
    "                reply = afact + funfact()\n",
    "                break            \n",
    "            \n",
    "    return reply\n",
    "\n",
    "def gamefindr(category):# sorts games by an acceptable rating \n",
    "    tempdf = game.loc[(game.Genres == category) & (game.Rating > 4)]\n",
    "    return list(tempdf.App)\n",
    "\n",
    "\n",
    "\n",
    "    \n",
    "#_input = input()\n",
    "#inputclean(_input)"
   ]
  },
  {
   "cell_type": "code",
   "execution_count": null,
   "id": "ea0e70d8",
   "metadata": {},
   "outputs": [
    {
     "name": "stdout",
     "output_type": "stream",
     "text": [
      "\u001b[32mChatBot: Hi, My name is GoogleplayGames Chat bot!\u001b[0m\n"
     ]
    }
   ],
   "source": [
    "cprint( \"ChatBot: Hi, My name is GoogleplayGames Chat bot!\", 'green')\n",
    "while True:\n",
    "    message = input(\"Me: \" + \"\")\n",
    "    ints = classpicker(message)\n",
    "    res = \"ChatBot: \" + response(ints, intents)\n",
    "    cprint( res, 'green')"
   ]
  },
  {
   "cell_type": "code",
   "execution_count": null,
   "id": "b26ee1d5",
   "metadata": {},
   "outputs": [],
   "source": []
  }
 ],
 "metadata": {
  "kernelspec": {
   "display_name": "Python 3",
   "language": "python",
   "name": "python3"
  },
  "language_info": {
   "codemirror_mode": {
    "name": "ipython",
    "version": 3
   },
   "file_extension": ".py",
   "mimetype": "text/x-python",
   "name": "python",
   "nbconvert_exporter": "python",
   "pygments_lexer": "ipython3",
   "version": "3.8.8"
  }
 },
 "nbformat": 4,
 "nbformat_minor": 5
}
